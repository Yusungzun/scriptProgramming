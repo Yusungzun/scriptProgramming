{
 "cells": [
  {
   "cell_type": "code",
   "execution_count": 8,
   "metadata": {},
   "outputs": [
    {
     "name": "stdout",
     "output_type": "stream",
     "text": [
      "5\n",
      "1\n",
      "2 3\n",
      "5 7 9\n",
      "2 3 5 1\n",
      "3 6 1 2 3\n",
      "20\n"
     ]
    }
   ],
   "source": [
    "H = int(input())\n",
    "int_triangle = []\n",
    "for i in range(H):\n",
    "    input_ = input()\n",
    "    line = list(map(int, input_.split(' ')))\n",
    "    assert len(line) == i + 1\n",
    "    int_triangle.append(line)\n",
    "k=2\n",
    "for i in range(1,H):\n",
    "    for j in range(k) :\n",
    "        if j == 0:\n",
    "            int_triangle[i][j] = int_triangle[i][j] + int_triangle[i-1][j]\n",
    "        elif i == j:\n",
    "            int_triangle[i][j] = int_triangle[i][j] + int_triangle[i-1][j-1]\n",
    "        else :\n",
    "            int_triangle[i][j] = max(int_triangle[i-1][j-1], int_triangle[i-1][j]) + int_triangle[i][j]\n",
    "    k += 1\n",
    "print(max(int_triangle[H-1]))"
   ]
  },
  {
   "cell_type": "code",
   "execution_count": 7,
   "metadata": {},
   "outputs": [
    {
     "name": "stdout",
     "output_type": "stream",
     "text": [
      "19\n"
     ]
    }
   ],
   "source": []
  },
  {
   "cell_type": "code",
   "execution_count": null,
   "metadata": {},
   "outputs": [],
   "source": []
  }
 ],
 "metadata": {
  "kernelspec": {
   "display_name": "Python 3",
   "language": "python",
   "name": "python3"
  },
  "language_info": {
   "codemirror_mode": {
    "name": "ipython",
    "version": 3
   },
   "file_extension": ".py",
   "mimetype": "text/x-python",
   "name": "python",
   "nbconvert_exporter": "python",
   "pygments_lexer": "ipython3",
   "version": "3.8.3"
  }
 },
 "nbformat": 4,
 "nbformat_minor": 4
}
